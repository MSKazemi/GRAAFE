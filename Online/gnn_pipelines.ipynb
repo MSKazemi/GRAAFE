{
 "cells": [
  {
   "cell_type": "code",
   "execution_count": null,
   "id": "548bb572-ba32-45e3-9d42-89b30bd1a435",
   "metadata": {},
   "outputs": [],
   "source": [
    "!pip3 install kfp --upgrade"
   ]
  },
  {
   "cell_type": "code",
   "execution_count": 1,
   "id": "08295adb-bb05-42da-91dd-7666a731f1cf",
   "metadata": {},
   "outputs": [
    {
     "name": "stdout",
     "output_type": "stream",
     "text": [
      "kfp                      1.8.20\n",
      "kfp-pipeline-spec        0.1.16\n",
      "kfp-server-api           1.6.0\n"
     ]
    }
   ],
   "source": [
    "!pip list | grep kfp"
   ]
  },
  {
   "cell_type": "markdown",
   "id": "f1f11ff0",
   "metadata": {},
   "source": [
    "## One Rack, One Pod, Continuous"
   ]
  },
  {
   "cell_type": "code",
   "execution_count": 5,
   "id": "0bd60e9c-e935-46fb-96a9-0c6b62d4c746",
   "metadata": {},
   "outputs": [
    {
     "data": {
      "text/html": [
       "<a href=\"/pipeline/#/experiments/details/4a1f5c7a-8e14-43ea-9fc1-1f7c28b7946b\" target=\"_blank\" >Experiment details</a>."
      ],
      "text/plain": [
       "<IPython.core.display.HTML object>"
      ]
     },
     "metadata": {},
     "output_type": "display_data"
    },
    {
     "data": {
      "text/html": [
       "<a href=\"/pipeline/#/runs/details/c159333b-0562-4912-9ca2-0639e39b7acc\" target=\"_blank\" >Run details</a>."
      ],
      "text/plain": [
       "<IPython.core.display.HTML object>"
      ]
     },
     "metadata": {},
     "output_type": "display_data"
    },
    {
     "data": {
      "text/plain": [
       "RunPipelineResult(run_id=c159333b-0562-4912-9ca2-0639e39b7acc)"
      ]
     },
     "execution_count": 5,
     "metadata": {},
     "output_type": "execute_result"
    }
   ],
   "source": [
    "%reset -f\n",
    "import kfp\n",
    "import kfp.dsl as dsl\n",
    "from kfp import components\n",
    "\n",
    "\n",
    "\n",
    "EXPERIMENT_NAME = 'gnn_one_racks_one_pods'\n",
    "PIPELINE_NAME = 'ppln_gnn_one_racks_one_pods'\n",
    "PIPELINE_DESCRIPTION = 'A pipeline that performs anomaly prediction on a Tier-0 supercomputer.'\n",
    "\n",
    "gnn = components.load_component_from_text(\"\"\"\n",
    "name: Online Prediction\n",
    "description: A pipeline that performs anomaly prediction on a Tier-0 supercomputer.\n",
    "\n",
    "implementation:\n",
    "  container:\n",
    "    image: kazemi/gnnexamon\n",
    "    command: [\n",
    "    \"/bin/sh\",\n",
    "    \"-c\",\n",
    "    \"ls && python3 main.py -euser 'XXXXX' -epwd 'YYYYY' -r 'r256'  -bs '192.168.0.35' -ir 0\"\n",
    "    ]\n",
    "\"\"\")\n",
    "\n",
    "\n",
    "# Define the pipeline\n",
    "@dsl.pipeline(\n",
    "   name=PIPELINE_NAME,\n",
    "   description=PIPELINE_DESCRIPTION\n",
    ")\n",
    "\n",
    "def gnn_pipeline():\n",
    "    gnn_obj = gnn()\n",
    "    \n",
    "# Specify pipeline argument values\n",
    "arguments = {} \n",
    "kfp.Client().create_run_from_pipeline_func(gnn_pipeline, arguments=arguments, experiment_name=EXPERIMENT_NAME)    \n",
    "\n"
   ]
  },
  {
   "cell_type": "markdown",
   "id": "890ad88e-3b62-4e93-aed5-867eaa52baf3",
   "metadata": {},
   "source": [
    "## One Rack, One Pod, Discrete"
   ]
  },
  {
   "cell_type": "code",
   "execution_count": 5,
   "id": "24ee4c99-2f6f-4fdf-ae5b-bb59db265438",
   "metadata": {},
   "outputs": [
    {
     "data": {
      "text/html": [
       "<a href=\"/pipeline/#/experiments/details/4a1f5c7a-8e14-43ea-9fc1-1f7c28b7946b\" target=\"_blank\" >Experiment details</a>."
      ],
      "text/plain": [
       "<IPython.core.display.HTML object>"
      ]
     },
     "metadata": {},
     "output_type": "display_data"
    },
    {
     "data": {
      "text/html": [
       "<a href=\"/pipeline/#/runs/details/c159333b-0562-4912-9ca2-0639e39b7acc\" target=\"_blank\" >Run details</a>."
      ],
      "text/plain": [
       "<IPython.core.display.HTML object>"
      ]
     },
     "metadata": {},
     "output_type": "display_data"
    },
    {
     "data": {
      "text/plain": [
       "RunPipelineResult(run_id=c159333b-0562-4912-9ca2-0639e39b7acc)"
      ]
     },
     "execution_count": 5,
     "metadata": {},
     "output_type": "execute_result"
    }
   ],
   "source": [
    "%reset -f\n",
    "import kfp\n",
    "import kfp.dsl as dsl\n",
    "from kfp import components\n",
    "\n",
    "\n",
    "\n",
    "EXPERIMENT_NAME = 'gnn_one_racks_one_pods'\n",
    "PIPELINE_NAME = 'ppln_gnn_one_racks_one_pods'\n",
    "PIPELINE_DESCRIPTION = 'A pipeline that performs anomaly prediction on a Tier-0 supercomputer.'\n",
    "\n",
    "gnn = components.load_component_from_text(\"\"\"\n",
    "name: Online Prediction\n",
    "description: A pipeline that performs anomaly prediction on a Tier-0 supercomputer.\n",
    "\n",
    "implementation:\n",
    "  container:\n",
    "    image: kazemi/gnnexamon\n",
    "    command: [\n",
    "    \"/bin/sh\",\n",
    "    \"-c\",\n",
    "    \"ls && python3 main.py -euser 'XXXXX' -epwd 'YYYYY' -r 'r256'  -bs '192.168.0.35' -ir 900\"\n",
    "    ]\n",
    "\"\"\")\n",
    "\n",
    "\n",
    "# Define the pipeline\n",
    "@dsl.pipeline(\n",
    "   name=PIPELINE_NAME,\n",
    "   description=PIPELINE_DESCRIPTION\n",
    ")\n",
    "\n",
    "def gnn_pipeline():\n",
    "    gnn_obj = gnn()\n",
    "    \n",
    "# Specify pipeline argument values\n",
    "arguments = {} \n",
    "kfp.Client().create_run_from_pipeline_func(gnn_pipeline, arguments=arguments, experiment_name=EXPERIMENT_NAME)    \n",
    "\n"
   ]
  },
  {
   "cell_type": "markdown",
   "id": "6a997fcb",
   "metadata": {
    "tags": []
   },
   "source": [
    "## All Racks, Multiple Pods, Continuous"
   ]
  },
  {
   "cell_type": "code",
   "execution_count": 6,
   "id": "6102dfd0",
   "metadata": {},
   "outputs": [
    {
     "data": {
      "text/html": [
       "<a href=\"/pipeline/#/experiments/details/d58cf16e-3647-4aab-b9d4-3d363ea1c52e\" target=\"_blank\" >Experiment details</a>."
      ],
      "text/plain": [
       "<IPython.core.display.HTML object>"
      ]
     },
     "metadata": {},
     "output_type": "display_data"
    },
    {
     "data": {
      "text/html": [
       "<a href=\"/pipeline/#/runs/details/18db34fd-80bc-49ef-a5d7-bcff25e4036e\" target=\"_blank\" >Run details</a>."
      ],
      "text/plain": [
       "<IPython.core.display.HTML object>"
      ]
     },
     "metadata": {},
     "output_type": "display_data"
    },
    {
     "data": {
      "text/plain": [
       "RunPipelineResult(run_id=18db34fd-80bc-49ef-a5d7-bcff25e4036e)"
      ]
     },
     "execution_count": 6,
     "metadata": {},
     "output_type": "execute_result"
    }
   ],
   "source": [
    "%reset -f\n",
    "import kfp\n",
    "import kfp.dsl as dsl\n",
    "from kfp import components\n",
    "import pandas as pd\n",
    "\n",
    "EXPERIMENT_NAME = 'gnn_all_racks_multiple_pods'\n",
    "PIPELINE_NAME = 'ppln_gnn_all_racks_multiple_pods'\n",
    "PIPELINE_DESCRIPTION = 'A pipeline that performs anomaly prediction on a Tier-0 supercomputer.'\n",
    "\n",
    "for rack_name in set([i.split('n')[0] for i in pd.read_csv(\"./node_names\").node_name.values]):\n",
    "    globals()[f\"gnn_rack_{rack_name}\"] = components.load_component_from_text(f\"\"\"\n",
    "    name: Online Prediction\n",
    "    description: A pipeline that performs anomaly prediction on a Tier-0 supercomputer.\n",
    "\n",
    "    implementation:\n",
    "      container:\n",
    "        image: kazemi/gnnexamon\n",
    "        command: [\n",
    "        \"/bin/sh\",\n",
    "        \"-c\",\n",
    "        \"ls && python3 main.py -euser 'XXXXX' -epwd 'YYYYY' -r {rack_name} -bs '192.168.0.35' -ir 0\"\n",
    "        ]\n",
    "    \"\"\")\n",
    "    \n",
    "\n",
    "\n",
    "# Define the pipeline\n",
    "@dsl.pipeline(\n",
    "   name=PIPELINE_NAME,\n",
    "   description=PIPELINE_DESCRIPTION\n",
    ")\n",
    "\n",
    "def gnn_pipeline():\n",
    "    for rack_name in set([i.split('n')[0] for i in pd.read_csv(\"./node_names\").node_name.values]):\n",
    "        globals()[f\"gnn_rack_obj{rack_name}\"] = globals()[f\"gnn_rack_{rack_name}\"]()\n",
    "    \n",
    "\n",
    "\n",
    "\n",
    "# Specify pipeline argument values   \n",
    "arguments = {} \n",
    "kfp.Client().create_run_from_pipeline_func(gnn_pipeline, \n",
    "                                           arguments=arguments,\n",
    "                                           experiment_name=EXPERIMENT_NAME)    "
   ]
  },
  {
   "cell_type": "markdown",
   "id": "7e052af1-d89a-44b2-8a41-c78c93885c2d",
   "metadata": {
    "tags": []
   },
   "source": [
    "## All Racks, Multiple Pods, Discrete"
   ]
  },
  {
   "cell_type": "code",
   "execution_count": 6,
   "id": "cff523c7-2953-4e21-8322-8ca2287776c3",
   "metadata": {},
   "outputs": [
    {
     "data": {
      "text/html": [
       "<a href=\"/pipeline/#/experiments/details/d58cf16e-3647-4aab-b9d4-3d363ea1c52e\" target=\"_blank\" >Experiment details</a>."
      ],
      "text/plain": [
       "<IPython.core.display.HTML object>"
      ]
     },
     "metadata": {},
     "output_type": "display_data"
    },
    {
     "data": {
      "text/html": [
       "<a href=\"/pipeline/#/runs/details/18db34fd-80bc-49ef-a5d7-bcff25e4036e\" target=\"_blank\" >Run details</a>."
      ],
      "text/plain": [
       "<IPython.core.display.HTML object>"
      ]
     },
     "metadata": {},
     "output_type": "display_data"
    },
    {
     "data": {
      "text/plain": [
       "RunPipelineResult(run_id=18db34fd-80bc-49ef-a5d7-bcff25e4036e)"
      ]
     },
     "execution_count": 6,
     "metadata": {},
     "output_type": "execute_result"
    }
   ],
   "source": [
    "%reset -f\n",
    "import kfp\n",
    "import kfp.dsl as dsl\n",
    "from kfp import components\n",
    "import pandas as pd\n",
    "\n",
    "EXPERIMENT_NAME = 'gnn_all_racks_multiple_pods'\n",
    "PIPELINE_NAME = 'ppln_gnn_all_racks_multiple_pods'\n",
    "PIPELINE_DESCRIPTION = 'A pipeline that performs anomaly prediction on a Tier-0 supercomputer.'\n",
    "\n",
    "for rack_name in set([i.split('n')[0] for i in pd.read_csv(\"./node_names\").node_name.values]):\n",
    "    globals()[f\"gnn_rack_{rack_name}\"] = components.load_component_from_text(f\"\"\"\n",
    "    name: Online Prediction\n",
    "    description: A pipeline that performs anomaly prediction on a Tier-0 supercomputer.\n",
    "\n",
    "    implementation:\n",
    "      container:\n",
    "        image: kazemi/gnnexamon\n",
    "        command: [\n",
    "        \"/bin/sh\",\n",
    "        \"-c\",\n",
    "        \"ls && python3 main.py -euser 'XXXXX' -epwd 'YYYYY' -r {rack_name} -bs '192.168.0.35' -ir 900\"\n",
    "        ]\n",
    "    \"\"\")\n",
    "    \n",
    "\n",
    "\n",
    "# Define the pipeline\n",
    "@dsl.pipeline(\n",
    "   name=PIPELINE_NAME,\n",
    "   description=PIPELINE_DESCRIPTION\n",
    ")\n",
    "\n",
    "def gnn_pipeline():\n",
    "    for rack_name in set([i.split('n')[0] for i in pd.read_csv(\"./node_names\").node_name.values]):\n",
    "        globals()[f\"gnn_rack_obj{rack_name}\"] = globals()[f\"gnn_rack_{rack_name}\"]()\n",
    "    \n",
    "\n",
    "\n",
    "\n",
    "# Specify pipeline argument values   \n",
    "arguments = {} \n",
    "kfp.Client().create_run_from_pipeline_func(gnn_pipeline, \n",
    "                                           arguments=arguments,\n",
    "                                           experiment_name=EXPERIMENT_NAME)    "
   ]
  },
  {
   "cell_type": "markdown",
   "id": "eb0551e7",
   "metadata": {},
   "source": [
    "## All Racks, One Pod, Continuous"
   ]
  },
  {
   "cell_type": "code",
   "execution_count": 7,
   "id": "a3304a50",
   "metadata": {},
   "outputs": [
    {
     "data": {
      "text/html": [
       "<a href=\"/pipeline/#/experiments/details/91a765ea-b424-4695-90b3-65d33cc5e997\" target=\"_blank\" >Experiment details</a>."
      ],
      "text/plain": [
       "<IPython.core.display.HTML object>"
      ]
     },
     "metadata": {},
     "output_type": "display_data"
    },
    {
     "data": {
      "text/html": [
       "<a href=\"/pipeline/#/runs/details/219d5110-1a46-4149-8e1b-d3b45b2351f4\" target=\"_blank\" >Run details</a>."
      ],
      "text/plain": [
       "<IPython.core.display.HTML object>"
      ]
     },
     "metadata": {},
     "output_type": "display_data"
    },
    {
     "data": {
      "text/plain": [
       "RunPipelineResult(run_id=219d5110-1a46-4149-8e1b-d3b45b2351f4)"
      ]
     },
     "execution_count": 7,
     "metadata": {},
     "output_type": "execute_result"
    }
   ],
   "source": [
    "%reset -f\n",
    "import kfp\n",
    "import kfp.dsl as dsl\n",
    "from kfp import components\n",
    "\n",
    "\n",
    "EXPERIMENT_NAME = 'gnn_all_racks_one_pod'\n",
    "PIPELINE_NAME = 'ppln_gnn_all_racks_one_pod'\n",
    "PIPELINE_DESCRIPTION = 'A pipeline that performs anomaly prediction on a Tier-0 supercomputer.'\n",
    "\n",
    "\n",
    "gnn = components.load_component_from_text(\"\"\"\n",
    "name: Online Prediction\n",
    "description: online prediction of the thermal hazard events with svm model.\n",
    "\n",
    "implementation:\n",
    "  container:\n",
    "    image: kazemi/gnnexamon\n",
    "    command: [\n",
    "    \"/bin/sh\",\n",
    "    \"-c\",\n",
    "    \"ls && python3 main.py -euser 'XXXXX' -epwd 'YYYYY' -bs '192.168.0.35' -ir 0\"\n",
    "    ]\n",
    "\"\"\")\n",
    "\n",
    "\n",
    "\n",
    "\n",
    "# Define the pipeline\n",
    "@dsl.pipeline(\n",
    "   name=PIPELINE_NAME,\n",
    "   description=PIPELINE_DESCRIPTION\n",
    ")\n",
    "\n",
    "\n",
    "\n",
    "def gnn_pipeline():\n",
    "    gnn_obj = gnn()\n",
    "    \n",
    "# Specify pipeline argument values\n",
    "arguments = {} \n",
    "\n",
    "kfp.Client().create_run_from_pipeline_func(gnn_pipeline, \n",
    "                                           arguments=arguments,\n",
    "                                           experiment_name=EXPERIMENT_NAME)    \n",
    "\n"
   ]
  },
  {
   "cell_type": "markdown",
   "id": "3af25a03-d0f5-4eb7-9f44-db1ec0172e0e",
   "metadata": {},
   "source": [
    "## All Racks, One Pod, Discrete"
   ]
  },
  {
   "cell_type": "code",
   "execution_count": 7,
   "id": "e3dac3ae-e846-40ca-9786-664ae7b7add7",
   "metadata": {},
   "outputs": [
    {
     "data": {
      "text/html": [
       "<a href=\"/pipeline/#/experiments/details/91a765ea-b424-4695-90b3-65d33cc5e997\" target=\"_blank\" >Experiment details</a>."
      ],
      "text/plain": [
       "<IPython.core.display.HTML object>"
      ]
     },
     "metadata": {},
     "output_type": "display_data"
    },
    {
     "data": {
      "text/html": [
       "<a href=\"/pipeline/#/runs/details/219d5110-1a46-4149-8e1b-d3b45b2351f4\" target=\"_blank\" >Run details</a>."
      ],
      "text/plain": [
       "<IPython.core.display.HTML object>"
      ]
     },
     "metadata": {},
     "output_type": "display_data"
    },
    {
     "data": {
      "text/plain": [
       "RunPipelineResult(run_id=219d5110-1a46-4149-8e1b-d3b45b2351f4)"
      ]
     },
     "execution_count": 7,
     "metadata": {},
     "output_type": "execute_result"
    }
   ],
   "source": [
    "%reset -f\n",
    "import kfp\n",
    "import kfp.dsl as dsl\n",
    "from kfp import components\n",
    "\n",
    "\n",
    "EXPERIMENT_NAME = 'gnn_all_racks_one_pod'\n",
    "PIPELINE_NAME = 'ppln_gnn_all_racks_one_pod'\n",
    "PIPELINE_DESCRIPTION = 'A pipeline that performs anomaly prediction on a Tier-0 supercomputer.'\n",
    "\n",
    "\n",
    "gnn = components.load_component_from_text(\"\"\"\n",
    "name: Online Prediction\n",
    "description: online prediction of the thermal hazard events with svm model.\n",
    "\n",
    "implementation:\n",
    "  container:\n",
    "    image: kazemi/gnnexamon\n",
    "    command: [\n",
    "    \"/bin/sh\",\n",
    "    \"-c\",\n",
    "    \"ls && python3 main.py -euser 'XXXXX' -epwd 'YYYYY' -bs '192.168.0.35' -ir 900\"\n",
    "    ]\n",
    "\"\"\")\n",
    "\n",
    "\n",
    "\n",
    "\n",
    "# Define the pipeline\n",
    "@dsl.pipeline(\n",
    "   name=PIPELINE_NAME,\n",
    "   description=PIPELINE_DESCRIPTION\n",
    ")\n",
    "\n",
    "\n",
    "\n",
    "def gnn_pipeline():\n",
    "    gnn_obj = gnn()\n",
    "    \n",
    "# Specify pipeline argument values\n",
    "arguments = {} \n",
    "\n",
    "kfp.Client().create_run_from_pipeline_func(gnn_pipeline, \n",
    "                                           arguments=arguments,\n",
    "                                           experiment_name=EXPERIMENT_NAME)    \n",
    "\n"
   ]
  }
 ],
 "metadata": {
  "kernelspec": {
   "display_name": "Python 3 (ipykernel)",
   "language": "python",
   "name": "python3"
  },
  "language_info": {
   "codemirror_mode": {
    "name": "ipython",
    "version": 3
   },
   "file_extension": ".py",
   "mimetype": "text/x-python",
   "name": "python",
   "nbconvert_exporter": "python",
   "pygments_lexer": "ipython3",
   "version": "3.8.10"
  }
 },
 "nbformat": 4,
 "nbformat_minor": 5
}
